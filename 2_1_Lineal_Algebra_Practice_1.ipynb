{
 "cells": [
  {
   "cell_type": "code",
   "execution_count": 2,
   "metadata": {
    "colab_type": "text",
    "id": "view-in-github"
   },
   "outputs": [],
   "source": [
    "import numpy as np"
   ]
  },
  {
   "cell_type": "markdown",
   "metadata": {
    "colab_type": "text",
    "id": "i2NEFcja852e"
   },
   "source": [
    "# Question 1.\n",
    "\n",
    "* Print the sum of matrixes A and B\n",
    "\n",
    "$$ A =\n",
    "\\left(\\begin{array}{cc} \n",
    "1 & 2\\\\\n",
    "3 & 4\\\\\n",
    "5 & 6\n",
    "\\end{array}\\right) + B =\n",
    "\\left(\\begin{array}{cc} \n",
    "6 & 5\\\\\n",
    "4 & 3\\\\\n",
    "2 & 1 \n",
    "\\end{array}\\right)\n",
    "$$ "
   ]
  },
  {
   "cell_type": "code",
   "execution_count": 3,
   "metadata": {
    "colab": {},
    "colab_type": "code",
    "id": "jDuBCQ2LQa6L"
   },
   "outputs": [
    {
     "data": {
      "text/plain": [
       "array([[7, 7],\n",
       "       [7, 7],\n",
       "       [7, 7]])"
      ]
     },
     "execution_count": 3,
     "metadata": {},
     "output_type": "execute_result"
    }
   ],
   "source": [
    "# Answer 1.\n",
    "A = np.array([[1,2], [3,4], [5,6]])\n",
    "B = np.array([[6,5], [4,3], [2,1]])\n",
    "\n",
    "C = A + B\n",
    "C\n",
    "\n",
    "\n",
    "\n"
   ]
  },
  {
   "cell_type": "markdown",
   "metadata": {
    "colab_type": "text",
    "id": "f_ysniFVMQ1F"
   },
   "source": [
    "# Question 2\n",
    "\n",
    "* Print the sum of matrix + scalar.\n",
    "\n",
    "$$ M =\n",
    "\\left(\\begin{array}{cc} \n",
    "6 & 3\\\\\n",
    "9 & 5\\\\\n",
    "4 & 8\n",
    "\\end{array}\\right) + N =\n",
    "\\left(\\begin{array}{cc} \n",
    "2.5 \\\\ \n",
    "\\end{array}\\right)\n",
    "$$ "
   ]
  },
  {
   "cell_type": "code",
   "execution_count": 4,
   "metadata": {
    "colab": {},
    "colab_type": "code",
    "id": "2_-3UKlcmlwz"
   },
   "outputs": [
    {
     "data": {
      "text/plain": [
       "array([[ 8.5,  5.5],\n",
       "       [11.5,  7.5],\n",
       "       [ 6.5, 10.5]])"
      ]
     },
     "execution_count": 4,
     "metadata": {},
     "output_type": "execute_result"
    }
   ],
   "source": [
    "# Answer 2.\n",
    "N= 2.5\n",
    "M = np.array([[6,3],[9,5], [4,8]])\n",
    "\n",
    "D = N+M\n",
    "D"
   ]
  },
  {
   "cell_type": "markdown",
   "metadata": {
    "colab_type": "text",
    "id": "tX6URHxjJgzm"
   },
   "source": [
    "# Question 3.\n",
    "\n",
    "* Print the transposed matrix of  $J$  -->  $J^t$. \n",
    "\n",
    "$$ J =\n",
    "\\left(\\begin{array}{cc} \n",
    "9 & 2 & 3\\\\\n",
    "3 & 7 & 4 \\\\\n",
    "5 & 6 & 9\n",
    "\\end{array}\\right) \n",
    "$$ "
   ]
  },
  {
   "cell_type": "code",
   "execution_count": 5,
   "metadata": {
    "colab": {},
    "colab_type": "code",
    "id": "Y3fS1dHzSmic"
   },
   "outputs": [
    {
     "data": {
      "text/plain": [
       "array([[9, 3, 5],\n",
       "       [2, 7, 6],\n",
       "       [3, 4, 9]])"
      ]
     },
     "execution_count": 5,
     "metadata": {},
     "output_type": "execute_result"
    }
   ],
   "source": [
    "# Answer 3.\n",
    "J = np.array([[9,2,3], [3,7,4],[5,6,9]])\n",
    "\n",
    "J_transpuesta= J.T\n",
    "J_transpuesta"
   ]
  },
  {
   "cell_type": "markdown",
   "metadata": {
    "colab_type": "text",
    "id": "sx1edpUHLNgH"
   },
   "source": [
    "# Question 4.\n",
    "\n",
    "* For the $ J ^ t $ matrix, calculate your transpose to obtain the original matrix J. \n",
    "\n",
    "$$ J =\n",
    "\\left(\\begin{array}{cc} \n",
    "9 & 2 & 3\\\\\n",
    "3 & 7 & 4 \\\\\n",
    "5 & 6 & 9\n",
    "\\end{array}\\right) \n",
    "$$ "
   ]
  },
  {
   "cell_type": "code",
   "execution_count": 6,
   "metadata": {
    "colab": {},
    "colab_type": "code",
    "id": "ku0zlNNO80hf"
   },
   "outputs": [
    {
     "data": {
      "text/plain": [
       "array([[9, 2, 3],\n",
       "       [3, 7, 4],\n",
       "       [5, 6, 9]])"
      ]
     },
     "execution_count": 6,
     "metadata": {},
     "output_type": "execute_result"
    }
   ],
   "source": [
    "# Answer 4.\n",
    "\n",
    "J_orig= J_transpuesta.T\n",
    "J_orig\n",
    "\n",
    "\n"
   ]
  },
  {
   "cell_type": "markdown",
   "metadata": {
    "colab_type": "text",
    "id": "qQ5b5m6HKp_u"
   },
   "source": [
    "# Question 5.\n",
    "\n",
    "* \n",
    "What are the missing values? \n",
    "\n",
    "$$\n",
    "\\left(\\begin{array}{cc} \n",
    "? & 2\\\\\n",
    "0 & 2\n",
    "\\end{array}\\right)\n",
    "\\left(\\begin{array}{cc} \n",
    "1 & 0 \\\\ \n",
    "1 & ? \n",
    "\\end{array}\\right)\n",
    "$$ \n",
    "\n",
    " * so that the answer is like this:\n",
    "$\n",
    "\\left(\n",
    " \\begin {array}{ll} \n",
    "1 & 0 \\\\\n",
    "0   & 0\n",
    "\\end{array}\n",
    "\\right)\n",
    "$\n",
    "\n",
    "- [ A ] = 1 y 1\n",
    "- [ B ] = 0 y 1\n",
    "- [ C ] = 1 y 0\n",
    "- [ D ] = 0 y 0\n",
    "\n",
    "*  Print the result and the answer."
   ]
  },
  {
   "cell_type": "code",
   "execution_count": 7,
   "metadata": {
    "colab": {
     "base_uri": "https://localhost:8080/",
     "height": 34
    },
    "colab_type": "code",
    "id": "mB1C6fZiK5Ws",
    "outputId": "b2a6fbca-7f30-43ee-a220-71e81f7df5de"
   },
   "outputs": [
    {
     "data": {
      "text/plain": [
       "array([[2, 2],\n",
       "       [2, 2]])"
      ]
     },
     "execution_count": 7,
     "metadata": {},
     "output_type": "execute_result"
    }
   ],
   "source": [
    "# Answer 5.\n",
    "A= np.array([[0,2], [0,2]])\n",
    "B= np.array([[1,0], [1,1]])\n",
    "\n",
    "C_dot= A.dot(B)\n",
    "\n",
    "C_dot"
   ]
  },
  {
   "cell_type": "markdown",
   "metadata": {
    "colab_type": "text",
    "id": "XRllz0RrGW-m"
   },
   "source": [
    "# Question 6.\n",
    "* ¿ What is the dot product matrixes  $L$ y $K$ = : ?\n",
    "\n",
    "$$ L =\n",
    "\\left(\\begin{array}{cc} \n",
    "3 & 5 \\\\\n",
    "7 & 1 \\\\\n",
    "\\end{array}\\right) K =\n",
    "\\left(\\begin{array}{cc} \n",
    "3 & 12  \\\\\n",
    "6 & 4  \\\\\n",
    "\\end{array}\\right)\n",
    "$$ "
   ]
  },
  {
   "cell_type": "code",
   "execution_count": 8,
   "metadata": {
    "colab": {},
    "colab_type": "code",
    "id": "NZ7tLNk2vW73"
   },
   "outputs": [
    {
     "data": {
      "text/plain": [
       "array([[39, 56],\n",
       "       [27, 88]])"
      ]
     },
     "execution_count": 8,
     "metadata": {},
     "output_type": "execute_result"
    }
   ],
   "source": [
    "# Answer 6.\n",
    "\n",
    "L= np.array([[3,5], [7,1]])\n",
    "K= np.array([[3,12], [6,4]])\n",
    "\n",
    "dot= L.dot(K)\n",
    "dot"
   ]
  },
  {
   "cell_type": "markdown",
   "metadata": {
    "colab_type": "text",
    "id": "qyuXefxfXs8h"
   },
   "source": [
    "# Question 7.\n",
    "\n",
    "* ¿ What is the determinant of the following matrix  ? (Print the answer)\n",
    "\n",
    "$\n",
    "\\left(\n",
    "\\begin {array}{ll} \n",
    "1 & 2 & 0 \\\\\n",
    "1 & 2 & 0 \\\\\n",
    "0 & 1 & 1 \\\\\n",
    "\\end{array}\n",
    "\\right)\n",
    "$\n",
    "\n",
    "- [ A ] = 1 \n",
    "- [ B ] = 0 \n",
    "- [ C ] = 5\n",
    "- [ D ] = -5\n",
    "\n"
   ]
  },
  {
   "cell_type": "code",
   "execution_count": 9,
   "metadata": {
    "colab": {},
    "colab_type": "code",
    "id": "_Za_87JV0Fxa"
   },
   "outputs": [
    {
     "data": {
      "text/plain": [
       "0.0"
      ]
     },
     "execution_count": 9,
     "metadata": {},
     "output_type": "execute_result"
    }
   ],
   "source": [
    "# Answer 7.\n",
    "A= np.array([[1,2,0], [1,2,0], [0,1,1]])\n",
    "\n",
    "det_A= np.linalg.slogdet(A)\n",
    "det= np.exp(det_A[1])\n",
    "\n",
    "det"
   ]
  },
  {
   "cell_type": "markdown",
   "metadata": {
    "colab_type": "text",
    "id": "YsULSkG8wME_"
   },
   "source": [
    "# Question 8.\n",
    "\n",
    "* ¿ What is the determinant of the following matrix ? (Print the answer)\n",
    "\n",
    "$\n",
    "\\left(\n",
    "\\begin {array}{ll} \n",
    "0 & 1 & 1 \\\\\n",
    "1 & 0 & 0 \\\\\n",
    "0 & 0 & 1 \\\\\n",
    "\\end{array}\n",
    "\\right)\n",
    "$\n",
    "\n",
    "- [ A ] = 0 \n",
    "- [ B ] = -1 \n",
    "- [ C ] = 3\n",
    "- [ D ] = 1\n"
   ]
  },
  {
   "cell_type": "code",
   "execution_count": 10,
   "metadata": {
    "colab": {},
    "colab_type": "code",
    "id": "WQhgsnY4v_hQ"
   },
   "outputs": [
    {
     "data": {
      "text/plain": [
       "1.0"
      ]
     },
     "execution_count": 10,
     "metadata": {},
     "output_type": "execute_result"
    }
   ],
   "source": [
    "# Answer 8.\n",
    "\n",
    "A= np.array([[0,1,1], [1,0,0], [0,0,1]])\n",
    "\n",
    "det_A= np.linalg.slogdet(A)\n",
    "det_A\n",
    "\n",
    "det= np.exp(det_A[1])\n",
    "\n",
    "det"
   ]
  },
  {
   "cell_type": "markdown",
   "metadata": {
    "colab_type": "text",
    "id": "0Z1mnDXzLJg_"
   },
   "source": [
    "# Question 9\n",
    "\n",
    "* ¿What is the missing value?\n",
    "$$ \n",
    "\\left(\\begin{array}{cc} \n",
    "1 & 2 & 3\\\\\n",
    "4 & 5 & 6\\\\\n",
    "7 & 8 & 9\n",
    "\\end{array}\\right) \n",
    "\\left(\\begin{array}{cc} \n",
    "0 \\\\ \n",
    "? \\\\\n",
    "16 \\\\\n",
    "\\end{array}\\right) =\n",
    "\\left(\\begin{array}{cc} \n",
    "4 \\\\ \n",
    "10 \\\\\n",
    "16 \\\\\n",
    "\\end{array}\\right)\n",
    "$$ "
   ]
  },
  {
   "cell_type": "code",
   "execution_count": 13,
   "metadata": {
    "colab": {},
    "colab_type": "code",
    "id": "n7Wx1hRwLHyX"
   },
   "outputs": [],
   "source": [
    "A= np.array([[1,2,3], [4,5,6], [7,8,9]])\n",
    "\n",
    "b= np.array([0,2,16])\n",
    "\n"
   ]
  },
  {
   "cell_type": "code",
   "execution_count": null,
   "metadata": {},
   "outputs": [],
   "source": [
    "2"
   ]
  }
 ],
 "metadata": {
  "colab": {
   "authorship_tag": "ABX9TyNBH8YHlQ+zcWguVXvT/7pN",
   "include_colab_link": true,
   "name": "2.1. Lineal Algebra Practice 1.ipynb",
   "provenance": []
  },
  "kernelspec": {
   "display_name": "Python 3",
   "language": "python",
   "name": "python3"
  },
  "language_info": {
   "codemirror_mode": {
    "name": "ipython",
    "version": 3
   },
   "file_extension": ".py",
   "mimetype": "text/x-python",
   "name": "python",
   "nbconvert_exporter": "python",
   "pygments_lexer": "ipython3",
   "version": "3.7.3"
  }
 },
 "nbformat": 4,
 "nbformat_minor": 1
}
